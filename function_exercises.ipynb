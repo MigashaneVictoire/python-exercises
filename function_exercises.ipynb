{
 "cells": [
  {
   "cell_type": "markdown",
   "id": "7808e2d1",
   "metadata": {},
   "source": [
    "1. Define a function named is_two. It should accept one input and return True if the passed input is either the number or the string 2, False otherwise."
   ]
  },
  {
   "cell_type": "code",
   "execution_count": 3,
   "id": "5fb1b4c6",
   "metadata": {},
   "outputs": [
    {
     "data": {
      "text/plain": [
       "True"
      ]
     },
     "execution_count": 3,
     "metadata": {},
     "output_type": "execute_result"
    }
   ],
   "source": [
    "def is_two(num):\n",
    "    return True if type(num) == int or type(num) == str else False\n",
    "is_two(\"sdf\")"
   ]
  },
  {
   "cell_type": "markdown",
   "id": "704daa54",
   "metadata": {},
   "source": [
    "2. Define a function named is_vowel. It should return True if the passed string is a vowel, False otherwise."
   ]
  },
  {
   "cell_type": "code",
   "execution_count": 6,
   "id": "43aa4e74",
   "metadata": {},
   "outputs": [
    {
     "data": {
      "text/plain": [
       "True"
      ]
     },
     "execution_count": 6,
     "metadata": {},
     "output_type": "execute_result"
    }
   ],
   "source": [
    "def is_vowel(string):\n",
    "    vowels = [\"a\", \"e\", \"i\", \"o\", u\"\"]\n",
    "    return True if string in vowels else False\n",
    "is_vowel(\"a\")"
   ]
  },
  {
   "cell_type": "markdown",
   "id": "d9d36da8",
   "metadata": {},
   "source": [
    "3. Define a function named is_consonant. It should return True if the passed string is a consonant, False otherwise. Use your is_vowel function to accomplish this.\n"
   ]
  },
  {
   "cell_type": "code",
   "execution_count": 9,
   "id": "88f4fa98",
   "metadata": {},
   "outputs": [
    {
     "data": {
      "text/plain": [
       "True"
      ]
     },
     "execution_count": 9,
     "metadata": {},
     "output_type": "execute_result"
    }
   ],
   "source": [
    "def is_consonat(string):\n",
    "    vowels = [\"a\", \"e\", \"i\", \"o\", u\"\"]\n",
    "    return True if string not in vowels else False\n",
    "is_consonat(\"f\")"
   ]
  },
  {
   "cell_type": "markdown",
   "id": "4654caec",
   "metadata": {},
   "source": [
    "4. Define a function that accepts a string that is a word. The function should capitalize the first letter of the word if the word starts with a consonant."
   ]
  },
  {
   "cell_type": "code",
   "execution_count": 11,
   "id": "26767daf",
   "metadata": {},
   "outputs": [
    {
     "data": {
      "text/plain": [
       "'Free'"
      ]
     },
     "execution_count": 11,
     "metadata": {},
     "output_type": "execute_result"
    }
   ],
   "source": [
    "def cap_word(word):\n",
    "    word = word.replace(word[0], word[0].upper())\n",
    "    return word\n",
    "cap_word(\"free\")"
   ]
  },
  {
   "cell_type": "markdown",
   "id": "1488003c",
   "metadata": {},
   "source": [
    "5. Define a function named calculate_tip. It should accept a tip percentage (a number between 0 and 1) and the bill total, and return the amount to tip."
   ]
  },
  {
   "cell_type": "code",
   "execution_count": 15,
   "id": "0256f60d",
   "metadata": {},
   "outputs": [
    {
     "data": {
      "text/plain": [
       "130.0"
      ]
     },
     "execution_count": 15,
     "metadata": {},
     "output_type": "execute_result"
    }
   ],
   "source": [
    "def calculate_tip(tip, bill_total) -> \"percentage, float\":\n",
    "    return (bill_total * tip) + bill_total\n",
    "\n",
    "calculate_tip(.3, 100)"
   ]
  },
  {
   "cell_type": "markdown",
   "id": "1ed26a23",
   "metadata": {},
   "source": [
    "6. Define a function named apply_discount. It should accept a original price, and a discount percentage, and return the price after the discount is applied.\n"
   ]
  },
  {
   "cell_type": "code",
   "execution_count": 1,
   "id": "5a681a22",
   "metadata": {},
   "outputs": [
    {
     "data": {
      "text/plain": [
       "70.0"
      ]
     },
     "execution_count": 1,
     "metadata": {},
     "output_type": "execute_result"
    }
   ],
   "source": [
    "def apply_discount(dis_price, org_price) -> \"percentage, float\":\n",
    "    return org_price - (org_price * dis_price)\n",
    "\n",
    "apply_discount(.3, 100)"
   ]
  },
  {
   "cell_type": "markdown",
   "id": "1773b02e",
   "metadata": {},
   "source": [
    "7. Define a function named handle_commas. It should accept a string that is a number that contains commas in it as input, and return a number as output.\n"
   ]
  },
  {
   "cell_type": "code",
   "execution_count": 22,
   "id": "ac6588e0",
   "metadata": {},
   "outputs": [
    {
     "data": {
      "text/plain": [
       "'12345'"
      ]
     },
     "execution_count": 22,
     "metadata": {},
     "output_type": "execute_result"
    }
   ],
   "source": [
    "def handle_commas(string):\n",
    "    new_string =  [string.replace(\",\", \"\") for ele in string]\n",
    "    return new_string[0]\n",
    "handle_commas(\"1,2,3,4,5\")"
   ]
  },
  {
   "cell_type": "markdown",
   "id": "965f2d47",
   "metadata": {},
   "source": [
    "8. Define a function named get_letter_grade. It should accept a number and return the letter grade associated with that number (A-F).\n"
   ]
  },
  {
   "cell_type": "code",
   "execution_count": 3,
   "id": "398d5b4a",
   "metadata": {},
   "outputs": [
    {
     "name": "stdout",
     "output_type": "stream",
     "text": [
      "B\n"
     ]
    }
   ],
   "source": [
    "def get_letter_grade(num):\n",
    "    if num >= 90:\n",
    "        print(\"A\")\n",
    "    elif num in range(80, 90):\n",
    "        print(\"B\")\n",
    "    elif num in range(70,80):\n",
    "        print(\"C\")\n",
    "    else:\n",
    "        print(\"F\")\n",
    "\n",
    "get_letter_grade(89)"
   ]
  },
  {
   "cell_type": "markdown",
   "id": "dcacb113",
   "metadata": {},
   "source": [
    "9. Define a function named remove_vowels that accepts a string and returns a string with all the vowels removed."
   ]
  },
  {
   "cell_type": "code",
   "execution_count": 7,
   "id": "9cc2c654",
   "metadata": {},
   "outputs": [
    {
     "data": {
      "text/plain": [
       "'strng vlu'"
      ]
     },
     "execution_count": 7,
     "metadata": {},
     "output_type": "execute_result"
    }
   ],
   "source": [
    "def remove_vowels(string):\n",
    "    vowels = [\"a\", \"e\", \"i\", \"o\", u\"\"]\n",
    "    for i in string:\n",
    "        if i in vowels:\n",
    "            string = string.replace(i, \"\")\n",
    "    return string\n",
    "\n",
    "remove_vowels('string value')"
   ]
  },
  {
   "cell_type": "markdown",
   "id": "16150f29",
   "metadata": {},
   "source": [
    "10. Define a function named normalize_name. It should accept a string and return a valid python identifier, that is:\n",
    "\n",
    "anything that is not a valid python identifier should be removed\n",
    "\n",
    "leading and trailing whitespace should be removed\n",
    "everything should be lowercase\n",
    "\n",
    "spaces should be replaced with underscores\n",
    "for example:\n",
    "\n",
    "Name will become name\n",
    "\n",
    "First Name will become first_name\n",
    "\n",
    "% Completed will become completed"
   ]
  },
  {
   "cell_type": "code",
   "execution_count": 24,
   "id": "8c8e89b2",
   "metadata": {},
   "outputs": [
    {
     "data": {
      "text/plain": [
       "'%string_value'"
      ]
     },
     "execution_count": 24,
     "metadata": {},
     "output_type": "execute_result"
    }
   ],
   "source": [
    "def normalize_name(string):\n",
    "    string = string.lower()\n",
    "    \n",
    "    for i in string:\n",
    "        string = string.replace(\" \", \"_\")\n",
    "        if i.isdigit():\n",
    "            string = string.replace(i,\"\")\n",
    "        \n",
    "    return string\n",
    "\n",
    "normalize_name(\"%Stri658458ng_Value\")"
   ]
  },
  {
   "cell_type": "markdown",
   "id": "db1da530",
   "metadata": {},
   "source": [
    "11. Write a function named cumulative_sum that accepts a list of numbers and returns a list that is the cumulative sum of the numbers in the list.\n",
    "\n",
    "cumulative_sum([1, 1, 1]) returns [1, 2, 3]\n",
    "\n",
    "cumulative_sum([1, 2, 3, 4]) returns [1, 3, 6, 10]"
   ]
  },
  {
   "cell_type": "code",
   "execution_count": 15,
   "id": "fe6e694b",
   "metadata": {},
   "outputs": [
    {
     "data": {
      "text/plain": [
       "[1, 3, 6, 10]"
      ]
     },
     "execution_count": 15,
     "metadata": {},
     "output_type": "execute_result"
    }
   ],
   "source": [
    "def cumulative_sum(lst):\n",
    "    curr_value = lst[0]\n",
    "    cum = [curr_value]\n",
    "\n",
    "    for i in range(len(lst) - 1):\n",
    "        right = i + 1\n",
    "        cum.append(curr_value + lst[right])\n",
    "        curr_value += lst[right]\n",
    "                \n",
    "    return cum \n",
    "\n",
    "cumulative_sum([1, 2, 3, 4])"
   ]
  },
  {
   "cell_type": "code",
   "execution_count": null,
   "id": "0234a5ad",
   "metadata": {},
   "outputs": [],
   "source": []
  }
 ],
 "metadata": {
  "kernelspec": {
   "display_name": "Python 3 (ipykernel)",
   "language": "python",
   "name": "python3"
  },
  "language_info": {
   "codemirror_mode": {
    "name": "ipython",
    "version": 3
   },
   "file_extension": ".py",
   "mimetype": "text/x-python",
   "name": "python",
   "nbconvert_exporter": "python",
   "pygments_lexer": "ipython3",
   "version": "3.10.9"
  }
 },
 "nbformat": 4,
 "nbformat_minor": 5
}
