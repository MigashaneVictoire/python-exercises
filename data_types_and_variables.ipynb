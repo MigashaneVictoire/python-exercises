{
 "cells": [
  {
   "cell_type": "markdown",
   "id": "ca70690d",
   "metadata": {},
   "source": [
    "Identify the data type of the following values:\n",
    "1. 99.9 -> Float\n",
    "1. \"False\" -> String\n",
    "1. False -> Boolean\n",
    "1. '0' -> String\n",
    "1. 0 -> Integer\n",
    "1. True -> Boolean\n",
    "b1. 'True' -> String\n",
    "1. [{}] -> List\n",
    "1. {'a': []} -> Dictionary\n"
   ]
  },
  {
   "cell_type": "markdown",
   "id": "d3d84d2c",
   "metadata": {},
   "source": [
    "What data type would best represent the following?\n",
    "\n",
    "1. A term or phrase typed into a search box -> String\n",
    "2. Whether or not a user is logged in -> Boolean\n",
    "3. A discount amount to apply to a user's shopping cart -> FLoat\n",
    "4. Whether or not a coupon code is valid -> Boolean\n",
    "5. An email address typed into a registration form -> String\n",
    "6. The price of a product -> Float\n",
    "7. The email addresses collected from a registration form -> List\n",
    "8. Information about applicants to Codeup's data science program -> Dictionary\n"
   ]
  },
  {
   "cell_type": "markdown",
   "id": "3d366bc7",
   "metadata": {},
   "source": [
    "For each of the following code blocks:\n",
    "\n",
    "1. Read the expression and predict the evaluated results\n",
    "1. Execute the expression in a Python REPL.\n",
    "\n",
    "\n",
    "* '1' + 2 -> TypeError\n",
    "* 6 % 4 -> 2\n",
    "* type(6 % 4) -> int\n",
    "* type(type(6 % 4)) -> SyntaxError\n",
    "* '3 + 4 is ' + 3 + 4 -> TypeError\n",
    "* 0 < 0 -> False\n",
    "* 'False' == False -> False\n",
    "* True == 'True' -> False\n",
    "* 5 >= -5 -> True\n",
    "* True or \"42\" -> True\n",
    "* 6 % 5 -> 1\n",
    "* 5 < 4 and 1 == 1 -> False\n",
    "* 'codeup' == 'codeup' and 'codeup' == 'Codeup' -> False\n",
    "* 4 >= 0 and 1 !== '1' -> True\n",
    "* 6 % 3 == 0 -> 0\n",
    "* 5 % 2 != 0 -> 1\n",
    "* [1] + 2 -> TypeError\n",
    "* [1] + [2] -> [1, 2]\n",
    "* [1] * 2 -> [1, 1]\n",
    "* [1] * [2] -> TypeError\n",
    "* [] + [] == [] -> True\n",
    "* {} + {} -> TypeError"
   ]
  },
  {
   "cell_type": "markdown",
   "id": "0adc5b54",
   "metadata": {},
   "source": [
    "You have rented some movies for your kids:\n",
    "\n",
    "* The Little Mermaid for 3 days\n",
    "* Brother Bear for 5 days\n",
    "* Hercules for 1 day\n",
    "\n",
    "If the daily fee to rent a movie is 3 dollars, how much will you have to pay?\n"
   ]
  },
  {
   "cell_type": "code",
   "execution_count": 29,
   "id": "eb8eeed9",
   "metadata": {},
   "outputs": [
    {
     "name": "stdout",
     "output_type": "stream",
     "text": [
      "total cost for 9 days is $27\n"
     ]
    }
   ],
   "source": [
    "mermaid, bear, hercules = 3, 5, 1\n",
    "movies = [mermaid, bear, hercules]\n",
    "\n",
    "total = [i * 3 for i in movies]\n",
    "print(f\"total cost for 9 days is ${sum(total)}\")"
   ]
  },
  {
   "cell_type": "markdown",
   "id": "79629b38",
   "metadata": {},
   "source": [
    "6. Suppose you're working as a contractor for 3 companies: Google, Amazon and Facebook.\n",
    "\n",
    "They pay you the following hourly rates:\n",
    "\n",
    "* Google: 400 dollars\n",
    "* Amazon: 380 dollars\n",
    "* Facebook: 350 dollars\n",
    "\n",
    "This week you worked: 10 hours for Facebook, 6 hours for Google and 4 hours for Amazon.\n",
    "\n",
    "How much will you receive in payment for this week?"
   ]
  },
  {
   "cell_type": "code",
   "execution_count": 33,
   "id": "c15b3b7e",
   "metadata": {},
   "outputs": [
    {
     "name": "stdout",
     "output_type": "stream",
     "text": [
      "$7420\n"
     ]
    }
   ],
   "source": [
    "google, amazon, facebook = 400, 380, 350\n",
    "google_hours, amazon_hours, facebook_hours = 6, 4, 10\n",
    "\n",
    "print(f\"${(google_hours * google)+(amazon_hours * amazon)+(facebook_hours * facebook)}\")"
   ]
  },
  {
   "cell_type": "markdown",
   "id": "6bcea2a0",
   "metadata": {},
   "source": [
    "A student can be enrolled to a class only if the class is not full and the class schedule does not conflict with her current schedule."
   ]
  },
  {
   "cell_type": "code",
   "execution_count": 40,
   "id": "aa593451",
   "metadata": {},
   "outputs": [
    {
     "name": "stdout",
     "output_type": "stream",
     "text": [
      "not_enroll\n"
     ]
    }
   ],
   "source": [
    "class_not_full = True\n",
    "class_schedule = \"Monday\"\n",
    "student_schedule = [\"Monday\", \"Thursday\", \"Saturday\"]\n",
    "if class_not_full == True and class_schedule not in student_schedule:\n",
    "    print(\"enroll\")\n",
    "else:\n",
    "    print(\"not_enroll\")"
   ]
  },
  {
   "cell_type": "code",
   "execution_count": 43,
   "id": "f70e47b0",
   "metadata": {},
   "outputs": [
    {
     "name": "stdout",
     "output_type": "stream",
     "text": [
      "Product offer applied\n"
     ]
    }
   ],
   "source": [
    "st_buy = 4\n",
    "offer_exp= False\n",
    "\n",
    "if  st_buy > 2 and offer_exp == False:\n",
    "    print(\"Product offer applied\")\n",
    "else:\n",
    "    print(\"product offer not applied\")\n"
   ]
  },
  {
   "cell_type": "code",
   "execution_count": 47,
   "id": "c7b7b3ff",
   "metadata": {},
   "outputs": [
    {
     "data": {
      "text/plain": [
       "False"
      ]
     },
     "execution_count": 47,
     "metadata": {},
     "output_type": "execute_result"
    }
   ],
   "source": []
  },
  {
   "cell_type": "markdown",
   "id": "66150328",
   "metadata": {},
   "source": [
    "9. Continue working in the data_types_and_variables.py file. Use the following code to follow the instructions below:\n",
    "\n",
    "\n",
    "username = 'codeup'\n",
    "password = 'notastrongpassword'\n",
    "Create a variable that holds a boolean value for each of the following conditions:\n",
    "\n",
    "The password must be at least 5 characters\n",
    "The username must be no more than 20 characters\n",
    "The password must not be the same as the username\n",
    "Bonus Neither the username or password can start or end with whitespace"
   ]
  },
  {
   "cell_type": "code",
   "execution_count": null,
   "id": "4826e18b",
   "metadata": {},
   "outputs": [],
   "source": [
    "username = 'codeup'\n",
    "password = 'notastrongpassword'\n",
    "\n",
    "pass_char_more_than_five = True\n",
    "username_more_than_20_char = False\n",
    "pass_similar_to_username = False\n",
    "user_pass_not_white_space_index_zero = False"
   ]
  }
 ],
 "metadata": {
  "kernelspec": {
   "display_name": "Python 3 (ipykernel)",
   "language": "python",
   "name": "python3"
  },
  "language_info": {
   "codemirror_mode": {
    "name": "ipython",
    "version": 3
   },
   "file_extension": ".py",
   "mimetype": "text/x-python",
   "name": "python",
   "nbconvert_exporter": "python",
   "pygments_lexer": "ipython3",
   "version": "3.10.9"
  }
 },
 "nbformat": 4,
 "nbformat_minor": 5
}
