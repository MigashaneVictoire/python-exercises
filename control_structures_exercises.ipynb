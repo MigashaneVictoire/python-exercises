{
 "cells": [
  {
   "cell_type": "markdown",
   "id": "46e0538c",
   "metadata": {},
   "source": [
    "## Conditional Basics\n",
    "\n",
    "Prompt the user for a day of the week, print out whether the day is Monday or not\n"
   ]
  },
  {
   "cell_type": "code",
   "execution_count": 5,
   "id": "17100161",
   "metadata": {},
   "outputs": [
    {
     "name": "stdout",
     "output_type": "stream",
     "text": [
      "Enter a day of the week: \n"
     ]
    },
    {
     "data": {
      "text/plain": [
       "[False]"
      ]
     },
     "execution_count": 5,
     "metadata": {},
     "output_type": "execute_result"
    }
   ],
   "source": [
    "weedDay = str(input(\"Enter a day of the week: \"))\n",
    "[True if weedDay == \"Monday\" else False]"
   ]
  },
  {
   "cell_type": "markdown",
   "id": "360f0956",
   "metadata": {},
   "source": [
    "Prompt the user for a day of the week, print out whether the day is a weekday or a weekend\n"
   ]
  },
  {
   "cell_type": "code",
   "execution_count": 6,
   "id": "abfd69a3",
   "metadata": {},
   "outputs": [
    {
     "name": "stdout",
     "output_type": "stream",
     "text": [
      "Enter a day of the week: \n"
     ]
    },
    {
     "data": {
      "text/plain": [
       "['Weeday']"
      ]
     },
     "execution_count": 6,
     "metadata": {},
     "output_type": "execute_result"
    }
   ],
   "source": [
    "weedDay = str(input(\"Enter a day of the week: \"))\n",
    "[\"Weekend\" if weedDay in [\"Saturday\", \"Sunday\"] else \"Weeday\"]"
   ]
  },
  {
   "cell_type": "markdown",
   "id": "9e447474",
   "metadata": {},
   "source": [
    "Calculate a weekly paycheck, accounting for overtime pay. Create variables and make up values for:\n",
    "\n",
    "The number of hours worked in one week\n",
    "\n",
    "The hourly rate\n",
    "\n",
    "For calculating pay:\n",
    "\n",
    "For working 40 hours or less, each hour is paid at the hourly rate\n",
    "\n",
    "For working more than 40 hours\n",
    "\n",
    "the first 40 hours are paid at the hourly rate\n",
    "\n",
    "each hour after 40 is paid at time and a half (hourly rate * 1.5)"
   ]
  },
  {
   "cell_type": "code",
   "execution_count": 7,
   "id": "661e076c",
   "metadata": {},
   "outputs": [
    {
     "name": "stdout",
     "output_type": "stream",
     "text": [
      "Your earned $2678.875 This week for 49 hours of work\n"
     ]
    }
   ],
   "source": [
    "hours_worked = 49\n",
    "hourly_rate = 53.25\n",
    "more_than_40_hours_rate = hourly_rate * 1.5\n",
    "\n",
    "if hours_worked <= 40:\n",
    "    print(f\"Your earned ${hours_worked * hours_worked} This week for {hours_worked} hours of work\")\n",
    "    \n",
    "else:\n",
    "    print(f\"Your earned ${(40 * hours_worked) + ((hours_worked % 40) * (hourly_rate * 1.5))} This week for {hours_worked} hours of work\")"
   ]
  },
  {
   "cell_type": "markdown",
   "id": "2dc7a7aa",
   "metadata": {},
   "source": [
    "## Loop Basics\n",
    "\n",
    "### While\n",
    "\n",
    "Create an integer variable i with a value of 5. Create a while loop that runs so long as i is less than or equal to 15. Each loop iteration, output the current value of i, then increment i by one."
   ]
  },
  {
   "cell_type": "code",
   "execution_count": 8,
   "id": "47cf4552",
   "metadata": {},
   "outputs": [
    {
     "name": "stdout",
     "output_type": "stream",
     "text": [
      "5\n",
      "6\n",
      "7\n",
      "8\n",
      "9\n",
      "10\n",
      "11\n",
      "12\n",
      "13\n",
      "14\n",
      "15\n"
     ]
    }
   ],
   "source": [
    "i = 5\n",
    "while i <= 15:\n",
    "    print(i)\n",
    "    i += 1"
   ]
  },
  {
   "cell_type": "markdown",
   "id": "16e0c2f0",
   "metadata": {},
   "source": [
    "Create a while loop that will count by 2's starting with 0 and ending at 100. Follow each number with a new line.\n",
    "Create a while loop that starts at 2, and displays the number squared on each line while the number is less than 1,000,000. Output should equal:"
   ]
  },
  {
   "cell_type": "code",
   "execution_count": null,
   "id": "6988ce13",
   "metadata": {},
   "outputs": [],
   "source": []
  },
  {
   "cell_type": "markdown",
   "id": "311458dd",
   "metadata": {},
   "source": [
    "Write a while loop that uses print to create the output shown below.\n"
   ]
  },
  {
   "cell_type": "code",
   "execution_count": null,
   "id": "af71eb3a",
   "metadata": {},
   "outputs": [],
   "source": []
  },
  {
   "cell_type": "markdown",
   "id": "334f4261",
   "metadata": {},
   "source": [
    "For Loops\n",
    "\n",
    "Write some code using a for loop that prompts the user for a number, then shows a multiplication table up through 10 for that number.\n",
    "\n",
    "For example, if the user enters 7, your program should output:"
   ]
  },
  {
   "cell_type": "code",
   "execution_count": null,
   "id": "fda2d241",
   "metadata": {},
   "outputs": [],
   "source": []
  }
 ],
 "metadata": {
  "kernelspec": {
   "display_name": "Python 3 (ipykernel)",
   "language": "python",
   "name": "python3"
  },
  "language_info": {
   "codemirror_mode": {
    "name": "ipython",
    "version": 3
   },
   "file_extension": ".py",
   "mimetype": "text/x-python",
   "name": "python",
   "nbconvert_exporter": "python",
   "pygments_lexer": "ipython3",
   "version": "3.10.9"
  }
 },
 "nbformat": 4,
 "nbformat_minor": 5
}
