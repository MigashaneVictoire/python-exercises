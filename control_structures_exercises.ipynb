{
 "cells": [
  {
   "cell_type": "markdown",
   "id": "701eeac4",
   "metadata": {},
   "source": [
    "## Conditional Basics\n",
    "\n",
    "Prompt the user for a day of the week, print out whether the day is Monday or not\n"
   ]
  },
  {
   "cell_type": "code",
   "execution_count": 1,
   "id": "a47e618c",
   "metadata": {},
   "outputs": [
    {
     "name": "stdout",
     "output_type": "stream",
     "text": [
      "Enter a day of the week: \n"
     ]
    },
    {
     "data": {
      "text/plain": [
       "[False]"
      ]
     },
     "execution_count": 1,
     "metadata": {},
     "output_type": "execute_result"
    }
   ],
   "source": [
    "weedDay = str(input(\"Enter a day of the week: \"))\n",
    "[True if weedDay == \"Monday\" else False]"
   ]
  },
  {
   "cell_type": "markdown",
   "id": "9eceebf9",
   "metadata": {},
   "source": [
    "Prompt the user for a day of the week, print out whether the day is a weekday or a weekend\n"
   ]
  },
  {
   "cell_type": "code",
   "execution_count": 2,
   "id": "5262332c",
   "metadata": {},
   "outputs": [
    {
     "name": "stdout",
     "output_type": "stream",
     "text": [
      "Enter a day of the week: \n"
     ]
    },
    {
     "data": {
      "text/plain": [
       "['Weeday']"
      ]
     },
     "execution_count": 2,
     "metadata": {},
     "output_type": "execute_result"
    }
   ],
   "source": [
    "weedDay = str(input(\"Enter a day of the week: \"))\n",
    "[\"Weekend\" if weedDay in [\"Saturday\", \"Sunday\"] else \"Weeday\"]"
   ]
  },
  {
   "cell_type": "markdown",
   "id": "3a75ed77",
   "metadata": {},
   "source": [
    "Calculate a weekly paycheck, accounting for overtime pay. Create variables and make up values for:\n",
    "\n",
    "The number of hours worked in one week\n",
    "\n",
    "The hourly rate\n",
    "\n",
    "For calculating pay:\n",
    "\n",
    "For working 40 hours or less, each hour is paid at the hourly rate\n",
    "\n",
    "For working more than 40 hours\n",
    "\n",
    "the first 40 hours are paid at the hourly rate\n",
    "\n",
    "each hour after 40 is paid at time and a half (hourly rate * 1.5)"
   ]
  },
  {
   "cell_type": "code",
   "execution_count": 3,
   "id": "420e2329",
   "metadata": {},
   "outputs": [
    {
     "name": "stdout",
     "output_type": "stream",
     "text": [
      "Your earned $2678.875 This week for 49 hours of work\n"
     ]
    }
   ],
   "source": [
    "hours_worked = 49\n",
    "hourly_rate = 53.25\n",
    "more_than_40_hours_rate = hourly_rate * 1.5\n",
    "\n",
    "if hours_worked <= 40:\n",
    "    print(f\"Your earned ${hours_worked * hours_worked} This week for {hours_worked} hours of work\")\n",
    "    \n",
    "else:\n",
    "    print(f\"Your earned ${(40 * hours_worked) + ((hours_worked % 40) * (hourly_rate * 1.5))} This week for {hours_worked} hours of work\")"
   ]
  },
  {
   "cell_type": "markdown",
   "id": "78c8b59b",
   "metadata": {},
   "source": [
    "## Loop Basics\n",
    "\n",
    "### While\n",
    "\n",
    "2. Create an integer variable i with a value of 5. Create a while loop that runs so long as i is less than or equal to 15. Each loop iteration, output the current value of i, then increment i by one."
   ]
  },
  {
   "cell_type": "code",
   "execution_count": 4,
   "id": "3626a757",
   "metadata": {},
   "outputs": [
    {
     "name": "stdout",
     "output_type": "stream",
     "text": [
      "5\n",
      "6\n",
      "7\n",
      "8\n",
      "9\n",
      "10\n",
      "11\n",
      "12\n",
      "13\n",
      "14\n",
      "15\n"
     ]
    }
   ],
   "source": [
    "i = 5\n",
    "while i <= 15:\n",
    "    print(i)\n",
    "    i += 1"
   ]
  },
  {
   "cell_type": "markdown",
   "id": "7eee930f",
   "metadata": {},
   "source": [
    "Create a while loop that will count by 2's starting with 0 and ending at 100. Follow each number with a new line.\n",
    "Create a while loop that starts at 2, and displays the number squared on each line while the number is less than 1,000,000. Output should equal:"
   ]
  },
  {
   "cell_type": "code",
   "execution_count": 3,
   "id": "ec57c1c4",
   "metadata": {},
   "outputs": [
    {
     "name": "stdout",
     "output_type": "stream",
     "text": [
      "2\n",
      "4\n",
      "16\n",
      "256\n",
      "65536\n"
     ]
    }
   ],
   "source": [
    "i = 2\n",
    "while i < 1_00_000:\n",
    "    print(i)\n",
    "    i = i**2"
   ]
  },
  {
   "cell_type": "markdown",
   "id": "1085185f",
   "metadata": {},
   "source": [
    "Write a while loop that uses print to create the output shown below.\n",
    "\n",
    "100\n",
    "\n",
    "95\n",
    "\n",
    "90\n",
    "\n",
    "85\n",
    "\n",
    "80\n",
    "\n",
    "75\n",
    "\n",
    "70\n",
    "\n",
    "65\n",
    "\n",
    "60\n",
    "\n",
    "55\n",
    "\n",
    "50\n",
    "\n",
    "45\n",
    "\n",
    "40\n",
    "\n",
    "35\n",
    "\n",
    "30\n",
    "\n",
    "25\n",
    "\n",
    "20\n",
    "\n",
    "15\n",
    "\n",
    "10\n",
    "\n",
    "5\n"
   ]
  },
  {
   "cell_type": "code",
   "execution_count": 4,
   "id": "800bb315",
   "metadata": {},
   "outputs": [
    {
     "name": "stdout",
     "output_type": "stream",
     "text": [
      "100\n",
      "95\n",
      "90\n",
      "85\n",
      "80\n",
      "75\n",
      "70\n",
      "65\n",
      "60\n",
      "55\n",
      "50\n",
      "45\n",
      "40\n",
      "35\n",
      "30\n",
      "25\n",
      "20\n",
      "15\n",
      "10\n",
      "5\n"
     ]
    }
   ],
   "source": [
    "num = 100\n",
    "while num >= 5:\n",
    "    print(num)\n",
    "    num -= 5\n",
    "    \n",
    "    "
   ]
  },
  {
   "cell_type": "markdown",
   "id": "6a01d0da",
   "metadata": {},
   "source": [
    "For Loops\n",
    "\n",
    "Write some code using a for loop that prompts the user for a number, then shows a multiplication table up through 10 for that number.\n",
    "\n",
    "For example, if the user enters 7, your program should output:\n",
    "\n",
    "7 x 1 = 7\n",
    "\n",
    "7 x 2 = 14\n",
    "\n",
    "7 x 3 = 21\n",
    "\n",
    "7 x 4 = 28\n",
    "\n",
    "7 x 5 = 35\n",
    "\n",
    "7 x 6 = 42\n",
    "\n",
    "7 x 7 = 49\n",
    "\n",
    "7 x 8 = 56\n",
    "\n",
    "7 x 9 = 63\n",
    "\n",
    "7 x 10 = 70"
   ]
  },
  {
   "cell_type": "code",
   "execution_count": 5,
   "id": "eb2ac31e",
   "metadata": {},
   "outputs": [
    {
     "name": "stdout",
     "output_type": "stream",
     "text": [
      "Enter a number: 8\n",
      "8 * 1 = 8\n",
      "8 * 2 = 16\n",
      "8 * 3 = 24\n",
      "8 * 4 = 32\n",
      "8 * 5 = 40\n",
      "8 * 6 = 48\n",
      "8 * 7 = 56\n",
      "8 * 8 = 64\n",
      "8 * 9 = 72\n",
      "8 * 10 = 80\n"
     ]
    }
   ],
   "source": [
    "user_input = int(input(\"Enter a number: \"))\n",
    "\n",
    "for ele in range(1,11):\n",
    "    print(f\"{user_input} * {ele} = {user_input * ele}\")"
   ]
  },
  {
   "cell_type": "markdown",
   "id": "ec46d93a",
   "metadata": {},
   "source": [
    "ii. Create a for loop that uses print to create the output shown below.\n",
    "![](image/while_b_two.png)"
   ]
  },
  {
   "cell_type": "code",
   "execution_count": 8,
   "id": "da160100",
   "metadata": {},
   "outputs": [
    {
     "name": "stdout",
     "output_type": "stream",
     "text": [
      "1\n",
      "22\n",
      "333\n",
      "4444\n",
      "55555\n",
      "666666\n",
      "7777777\n",
      "88888888\n",
      "999999999\n"
     ]
    }
   ],
   "source": [
    "for num in range(1, 10):\n",
    "    print(str(num) * num)"
   ]
  },
  {
   "cell_type": "markdown",
   "id": "9c344635",
   "metadata": {},
   "source": [
    "## break and continue\n",
    "\n",
    "Write a program that prompts the user for a positive integer. Next write a loop that prints out the numbers from the number the user entered down to 1."
   ]
  },
  {
   "cell_type": "code",
   "execution_count": 22,
   "id": "263c93e6",
   "metadata": {},
   "outputs": [
    {
     "name": "stdout",
     "output_type": "stream",
     "text": [
      "Enter a number: 8\n",
      "7\n",
      "6\n",
      "5\n",
      "4\n",
      "3\n",
      "2\n",
      "1\n"
     ]
    }
   ],
   "source": [
    "user_input = int(input(\"Enter a number: \"))\n",
    "\n",
    "for n in reversed(range(1, user_input)):\n",
    "    print(n)"
   ]
  },
  {
   "cell_type": "markdown",
   "id": "42a49015",
   "metadata": {},
   "source": [
    "The input function can be used to prompt for input and use that input in your python code. Prompt the user to enter a positive number and write a loop that counts from 0 to that number. (Hints: note that the input function returns a string, so you'll need to convert this to a numeric type.)\n"
   ]
  },
  {
   "cell_type": "code",
   "execution_count": 23,
   "id": "a4175e34",
   "metadata": {},
   "outputs": [
    {
     "name": "stdout",
     "output_type": "stream",
     "text": [
      "Enter a positive number: 9\n",
      "0\n",
      "1\n",
      "2\n",
      "3\n",
      "4\n",
      "5\n",
      "6\n",
      "7\n",
      "8\n",
      "9\n"
     ]
    }
   ],
   "source": [
    "user_input = int(input(\"Enter a positive number: \"))\n",
    "\n",
    "if user_input >= 0:\n",
    "    for n in range(user_input + 1):\n",
    "        print(n)\n",
    "else:\n",
    "    print(\"You entred a negative number\")"
   ]
  },
  {
   "cell_type": "markdown",
   "id": "25dd6e4f",
   "metadata": {},
   "source": [
    "Prompt the user for an odd number between 1 and 50. Use a loop and a break statement to continue prompting the user if they enter invalid input. (Hint: use the isdigit method on strings to determine this). Use a loop and the continue statement to output all the odd numbers between 1 and 50, except for the number the user entered.\n",
    "\n",
    "Your output should look like this:\n",
    "\n",
    "![](image/break_cont.png)"
   ]
  },
  {
   "cell_type": "code",
   "execution_count": 46,
   "id": "a5ff4974",
   "metadata": {},
   "outputs": [
    {
     "name": "stdout",
     "output_type": "stream",
     "text": [
      "Enter an odd number: 27\n",
      "Here is an odd number: 1\n",
      "Here is an odd number: 3\n",
      "Here is an odd number: 5\n",
      "Here is an odd number: 7\n",
      "Here is an odd number: 9\n",
      "Here is an odd number: 11\n",
      "Here is an odd number: 13\n",
      "Here is an odd number: 15\n",
      "Here is an odd number: 17\n",
      "Here is an odd number: 19\n",
      "Here is an odd number: 21\n",
      "Here is an odd number: 23\n",
      "Here is an odd number: 25\n",
      "Yikes! Skipping number: 27\n",
      "Here is an odd number: 29\n",
      "Here is an odd number: 31\n",
      "Here is an odd number: 33\n",
      "Here is an odd number: 35\n",
      "Here is an odd number: 37\n",
      "Here is an odd number: 39\n",
      "Here is an odd number: 41\n",
      "Here is an odd number: 43\n",
      "Here is an odd number: 45\n",
      "Here is an odd number: 47\n",
      "Here is an odd number: 49\n"
     ]
    }
   ],
   "source": [
    "user_input = int(input(\"Enter an odd number: \"))\n",
    "\n",
    "i= 1\n",
    "while i < 50:\n",
    "    if user_input % 2 == 0:\n",
    "        break\n",
    "    if i == user_input:\n",
    "        print(f\"Yikes! Skipping number: {user_input}\")\n",
    "        i = i + 1\n",
    "        continue\n",
    "    if i % 2 == 1:\n",
    "        print(f\"Here is an odd number: {i}\")\n",
    "    i = i+1\n",
    "        \n",
    "        "
   ]
  },
  {
   "cell_type": "markdown",
   "id": "2933d8f3",
   "metadata": {},
   "source": [
    "## Fizzbuzz\n",
    "\n",
    "One of the most common interview questions for entry-level programmers is the FizzBuzz test. Developed by Imran Ghory, the test is designed to test basic looping and conditional logic skills.\n",
    "\n",
    "Write a program that prints the numbers from 1 to 100.\n",
    "\n",
    "For multiples of three print \"Fizz\" instead of the number\n",
    "\n",
    "For numbers which are multiples of both three and five print \"FizzBuzz\"."
   ]
  },
  {
   "cell_type": "code",
   "execution_count": 56,
   "id": "175c1d34",
   "metadata": {},
   "outputs": [
    {
     "name": "stdout",
     "output_type": "stream",
     "text": [
      "0 Fizz\n",
      "0 Buzz\n",
      "0 FizzBuzz\n",
      "3 Fizz\n",
      "5 Buzz\n",
      "6 Fizz\n",
      "9 Fizz\n",
      "10 Buzz\n",
      "12 Fizz\n",
      "15 Fizz\n",
      "15 Buzz\n",
      "15 FizzBuzz\n",
      "18 Fizz\n",
      "20 Buzz\n",
      "21 Fizz\n",
      "24 Fizz\n",
      "25 Buzz\n",
      "27 Fizz\n",
      "30 Fizz\n",
      "30 Buzz\n",
      "30 FizzBuzz\n",
      "33 Fizz\n",
      "35 Buzz\n",
      "36 Fizz\n",
      "39 Fizz\n",
      "40 Buzz\n",
      "42 Fizz\n",
      "45 Fizz\n",
      "45 Buzz\n",
      "45 FizzBuzz\n",
      "48 Fizz\n",
      "50 Buzz\n",
      "51 Fizz\n",
      "54 Fizz\n",
      "55 Buzz\n",
      "57 Fizz\n",
      "60 Fizz\n",
      "60 Buzz\n",
      "60 FizzBuzz\n",
      "63 Fizz\n",
      "65 Buzz\n",
      "66 Fizz\n",
      "69 Fizz\n",
      "70 Buzz\n",
      "72 Fizz\n",
      "75 Fizz\n",
      "75 Buzz\n",
      "75 FizzBuzz\n",
      "78 Fizz\n",
      "80 Buzz\n",
      "81 Fizz\n",
      "84 Fizz\n",
      "85 Buzz\n",
      "87 Fizz\n",
      "90 Fizz\n",
      "90 Buzz\n",
      "90 FizzBuzz\n",
      "93 Fizz\n",
      "95 Buzz\n",
      "96 Fizz\n",
      "99 Fizz\n"
     ]
    }
   ],
   "source": [
    "for i in range(100):\n",
    "    if i % 3 == 0:\n",
    "        print(i, \"Fizz\")\n",
    "    if i % 5 == 0:\n",
    "        print(i, \"Buzz\")\n",
    "    if (i % 3 == 0) and (i % 5 == 0):\n",
    "        print(i, \"FizzBuzz\")"
   ]
  },
  {
   "cell_type": "markdown",
   "id": "261ed0c1",
   "metadata": {},
   "source": [
    "#### Display a table of powers.\n",
    "\n",
    "Prompt the user to enter an integer\n",
    "\n",
    "Display a table of squares and cubes from 1 to the value entered\n",
    "\n",
    "Ask if the user wants to continue\n",
    "\n",
    "Assume that the user will enter valid data\n",
    "\n",
    "Only continue if the user agrees to"
   ]
  },
  {
   "cell_type": "code",
   "execution_count": 100,
   "id": "4e95018d",
   "metadata": {},
   "outputs": [
    {
     "name": "stdout",
     "output_type": "stream",
     "text": [
      "What number would you like to go up to? 5\n",
      "Here is your table\n",
      "\n",
      "name | squared | cubed\n",
      "---- | -------- | ----\n",
      "1    | 1        | 1\n",
      "2    | 4        | 8\n",
      "3    | 9        | 27\n",
      "4    | 16        | 64\n",
      "5    | 25        | 125\n",
      "WOuld you like to continue: yes or noyes\n",
      "What number would you like to go up to? 5\n",
      "Here is your table\n",
      "\n",
      "name | squared | cubed\n",
      "---- | -------- | ----\n",
      "1    | 1        | 1\n",
      "2    | 4        | 8\n",
      "3    | 9        | 27\n",
      "4    | 16        | 64\n",
      "5    | 25        | 125\n",
      "WOuld you like to continue: yes or noyes\n",
      "What number would you like to go up to? 9\n",
      "Here is your table\n",
      "\n",
      "name | squared | cubed\n",
      "---- | -------- | ----\n",
      "1    | 1        | 1\n",
      "2    | 4        | 8\n",
      "3    | 9        | 27\n",
      "4    | 16        | 64\n",
      "5    | 25        | 125\n",
      "6    | 36        | 216\n",
      "7    | 49        | 343\n",
      "8    | 64        | 512\n",
      "9    | 81        | 729\n",
      "WOuld you like to continue: yes or nono\n",
      "Great day, thanks\n"
     ]
    }
   ],
   "source": [
    "user_input = int(input(\"What number would you like to go up to? \"))\n",
    "\n",
    "run = True\n",
    "while run:\n",
    "    print(\"Here is your table\\n\")\n",
    "    print(\"name | squared | cubed\")\n",
    "    print(\"-\"*4, \"|\", \"-\"*8, \"|\", \"-\"*4)\n",
    "\n",
    "    i = 1\n",
    "    while i <= user_input:\n",
    "        print(f\"{i}    | {i**2}        | {i**3}\")\n",
    "        i = i + 1 \n",
    "\n",
    "    user_input = input(\"WOuld you like to continue: yes or no\")\n",
    "\n",
    "    if user_input == \"yes\":\n",
    "        user_input = int(input(\"What number would you like to go up to? \"))\n",
    "    else:\n",
    "        print(\"Great day, thanks\")\n",
    "        break\n"
   ]
  },
  {
   "cell_type": "markdown",
   "id": "e0ed34b7",
   "metadata": {},
   "source": [
    "##### Convert given number grades into letter grades.\n",
    "\n",
    "Prompt the user for a numerical grade from 0 to 100\n",
    "\n",
    "Display the corresponding letter grade\n",
    "\n",
    "Prompt the user to continue\n",
    "\n",
    "Assume that the user will enter valid integers for the grades\n",
    "\n",
    "The application should only continue if the user agrees to\n"
   ]
  },
  {
   "cell_type": "code",
   "execution_count": 103,
   "id": "c27fdd7a",
   "metadata": {},
   "outputs": [
    {
     "name": "stdout",
     "output_type": "stream",
     "text": [
      "Enter a number between 1 and 100? 35\n",
      "F\n",
      "Would you like to continueyes\n",
      "Enter a number between 1 and 100? 58\n",
      "F\n",
      "Would you like to continueno\n",
      "Thank you\n"
     ]
    }
   ],
   "source": [
    "user_input = int(input(\"Enter a number between 1 and 100? \"))\n",
    "\n",
    "run = True\n",
    "while run:\n",
    "    \n",
    "    if user_input in range(88,101):\n",
    "        print(\"A\")\n",
    "    elif user_input in range(80,88):\n",
    "        print(\"B\")\n",
    "    if user_input in range(67, 80):\n",
    "        print(\"C\")\n",
    "    elif user_input in range(60,67):\n",
    "        print(\"D\")\n",
    "    else:\n",
    "        print(\"F\")\n",
    "\n",
    "    user_input = input(\"Would you like to continue\")\n",
    "    if user_input == \"yes\":\n",
    "        user_input = int(input(\"Enter a number between 1 and 100? \"))\n",
    "    else:\n",
    "        print(\"Thank you\")\n",
    "        break\n"
   ]
  },
  {
   "cell_type": "markdown",
   "id": "c8c039b7",
   "metadata": {},
   "source": [
    "Create a list of dictionaries where each dictionary represents a book that you have read. Each dictionary in the list should have the keys title, author, and genre. Loop through the list and print out information about each book.\n",
    "\n",
    "Prompt the user to enter a genre, then loop through your books list and print out the titles of all the books in that genre."
   ]
  },
  {
   "cell_type": "code",
   "execution_count": 113,
   "id": "193b8ee4",
   "metadata": {},
   "outputs": [
    {
     "name": "stdout",
     "output_type": "stream",
     "text": [
      "Enter and genre? Romance\n",
      "Me Before You\n"
     ]
    }
   ],
   "source": [
    "book1 = {\n",
    "    \"title\":\"brave Deeds\",\n",
    "    \"author\": \"David Abrams\",\n",
    "    \"genre\":\"Fiction Novel\"   \n",
    "    }\n",
    "book2 = {\n",
    "    \"title\":\"Think and Grow Rich\",\n",
    "    \"author\": \"Napolion Hill\",\n",
    "    \"genre\":\"Motivation\"   \n",
    "    }\n",
    "book3 = {\n",
    "    \"title\":\"Me Before You\",\n",
    "    \"author\": \"jojo mayes\",\n",
    "    \"genre\":\"Romance\"\n",
    "       }\n",
    "books = [book1, book2, book3]\n",
    "\n",
    "user_input = input(\"Enter and genre? \")\n",
    "for i in books:\n",
    "    if i[\"genre\"] == user_input:\n",
    "        print(i[\"title\"])"
   ]
  },
  {
   "cell_type": "code",
   "execution_count": null,
   "id": "e1ed44a0",
   "metadata": {},
   "outputs": [],
   "source": []
  }
 ],
 "metadata": {
  "kernelspec": {
   "display_name": "Python 3 (ipykernel)",
   "language": "python",
   "name": "python3"
  },
  "language_info": {
   "codemirror_mode": {
    "name": "ipython",
    "version": 3
   },
   "file_extension": ".py",
   "mimetype": "text/x-python",
   "name": "python",
   "nbconvert_exporter": "python",
   "pygments_lexer": "ipython3",
   "version": "3.10.9"
  }
 },
 "nbformat": 4,
 "nbformat_minor": 5
}
