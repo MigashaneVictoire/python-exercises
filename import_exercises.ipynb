{
 "cells": [
  {
   "cell_type": "markdown",
   "id": "67a91c7a",
   "metadata": {},
   "source": [
    "# Imports\n",
    "\n",
    "1. Import and test 3 of the functions from your functions exercise file. Import each function in a different way:\n",
    "\n",
    "a. Run an interactive python session and import the module. Call the is_vowel function using the . syntax."
   ]
  },
  {
   "cell_type": "code",
   "execution_count": 2,
   "id": "e937cd38",
   "metadata": {},
   "outputs": [
    {
     "data": {
      "text/plain": [
       "False"
      ]
     },
     "execution_count": 2,
     "metadata": {},
     "output_type": "execute_result"
    }
   ],
   "source": [
    "import import_ipynb # enable importing functions from a ipymb file\n",
    "\n",
    "import function_exercises as fe\n",
    "\n",
    "fe.is_vowel(\"d\")"
   ]
  },
  {
   "cell_type": "markdown",
   "id": "8b944b22",
   "metadata": {},
   "source": [
    "\n",
    "b. Create a file named import_exericses.py. Within this file, use from to import the calculate_tip function directly. Call this function with values you choose and print the result."
   ]
  },
  {
   "cell_type": "code",
   "execution_count": 3,
   "id": "2ba90d9a",
   "metadata": {},
   "outputs": [
    {
     "data": {
      "text/plain": [
       "327.6"
      ]
     },
     "execution_count": 3,
     "metadata": {},
     "output_type": "execute_result"
    }
   ],
   "source": [
    "fe.calculate_tip(.4, 234)"
   ]
  },
  {
   "cell_type": "markdown",
   "id": "b9698a33",
   "metadata": {},
   "source": [
    "c. Create a jupyter notebook named import_exercises.ipynb. Use from to import the get_letter_grade function and give it an alias. Test this function in your notebook.\n",
    "\n",
    "Make sure your code that tests the function imports is run from the same directory that your functions exercise file is in."
   ]
  },
  {
   "cell_type": "code",
   "execution_count": 4,
   "id": "9802c2c7",
   "metadata": {},
   "outputs": [
    {
     "name": "stdout",
     "output_type": "stream",
     "text": [
      "A\n"
     ]
    }
   ],
   "source": [
    "fe.get_letter_grade(98)"
   ]
  },
  {
   "cell_type": "markdown",
   "id": "b7fa9df5",
   "metadata": {},
   "source": [
    "2. Read about and use the itertools module from the python standard library to help you solve the following problems. Note: Many of these functions in this library return an object, to see the results of the function, cast this object as a list.\n",
    "\n",
    "* How many different ways can you combine a single letter from \"abc\" with either 1, 2, or 3?\n",
    "* How many different combinations are there of 2 letters from \"abcd\"?\n",
    "* How many different permutations are there of 2 letters from \"abcd\"?"
   ]
  },
  {
   "cell_type": "code",
   "execution_count": 26,
   "id": "8fcfe1d9",
   "metadata": {},
   "outputs": [
    {
     "name": "stdout",
     "output_type": "stream",
     "text": [
      "3\n",
      "6\n",
      "12\n"
     ]
    }
   ],
   "source": [
    "import itertools\n",
    "\n",
    "# combinations('ABCD', 2) --> AB AC AD BC BD CD\n",
    "# combinations(range(4), 3) --> 012 013 023 123\n",
    "    \n",
    "# combine a single charcture from the string 'abc'\n",
    "print(len(list(itertools.combinations(\"abc\", 1))))\n",
    "\n",
    "# combinations from 2 letters in 'abcd'\n",
    "print(len(list(itertools.combinations('abcd', 2))))\n",
    "\n",
    "\n",
    "# permutations('ABCD', 2) --> AB AC AD BA BC BD CA CB CD DA DB DC\n",
    "# permutations(range(3)) --> 012 021 102 120 201 210\n",
    "    \n",
    "# permutations of 2 from 'abcd'\n",
    "print(len(list(itertools.permutations('abcd',2))))"
   ]
  },
  {
   "cell_type": "markdown",
   "id": "74015f04",
   "metadata": {},
   "source": [
    "3. Save `this file`(a file in current directory) as profiles.json inside of your exercises directory (right click -> save file as...).\n",
    "\n",
    "Use the load function from the json module to open this file.\n",
    "```\n",
    "import json\n",
    "json.load(open('profiles.json'))\n",
    "\n",
    "```\n",
    "Your code should produce a list of dictionaries. Using this data, write some code that calculates and outputs the following information:"
   ]
  },
  {
   "cell_type": "code",
   "execution_count": 29,
   "id": "2515aefa",
   "metadata": {},
   "outputs": [],
   "source": [
    "import json\n",
    "\n",
    "profiles = json.load(open('profiles.json')) # assign the json file"
   ]
  },
  {
   "cell_type": "markdown",
   "id": "ed2a23e2",
   "metadata": {},
   "source": [
    "Total number of users"
   ]
  },
  {
   "cell_type": "code",
   "execution_count": 32,
   "id": "93122bff",
   "metadata": {},
   "outputs": [
    {
     "data": {
      "text/plain": [
       "19"
      ]
     },
     "execution_count": 32,
     "metadata": {},
     "output_type": "execute_result"
    }
   ],
   "source": [
    "len(profiles)"
   ]
  },
  {
   "cell_type": "markdown",
   "id": "9275a0e1",
   "metadata": {},
   "source": [
    "Number of active users"
   ]
  },
  {
   "cell_type": "code",
   "execution_count": 56,
   "id": "3166900f",
   "metadata": {},
   "outputs": [
    {
     "data": {
      "text/plain": [
       "9"
      ]
     },
     "execution_count": 56,
     "metadata": {},
     "output_type": "execute_result"
    }
   ],
   "source": [
    "active_count = 0\n",
    "for user in profiles:\n",
    "    # add 1 to count if user isActive == True\n",
    "    if user['isActive']:\n",
    "        active_count += 1\n",
    "    \n",
    "active_count"
   ]
  },
  {
   "cell_type": "markdown",
   "id": "71508ae0",
   "metadata": {},
   "source": [
    "Number of inactive users"
   ]
  },
  {
   "cell_type": "code",
   "execution_count": 58,
   "id": "251562a8",
   "metadata": {},
   "outputs": [
    {
     "data": {
      "text/plain": [
       "10"
      ]
     },
     "execution_count": 58,
     "metadata": {},
     "output_type": "execute_result"
    }
   ],
   "source": [
    "inactive_count = 0\n",
    "for user in profiles:\n",
    "    # add 1 to count if user isActive == False\n",
    "    if not user['isActive']:\n",
    "        inactive_count += 1\n",
    "    \n",
    "inactive_count"
   ]
  },
  {
   "cell_type": "markdown",
   "id": "6d1b4abe",
   "metadata": {},
   "source": [
    "Grand total of balances for all users"
   ]
  },
  {
   "cell_type": "code",
   "execution_count": 68,
   "id": "c11a25d3",
   "metadata": {},
   "outputs": [
    {
     "data": {
      "text/plain": [
       "5266702.0"
      ]
     },
     "execution_count": 68,
     "metadata": {},
     "output_type": "execute_result"
    }
   ],
   "source": [
    "sum_balance = 0\n",
    "for user in profiles:\n",
    "    \n",
    "    # remove dollar sign\n",
    "    tran_user_balance = \"\"\n",
    "    for ele in user['balance']:\n",
    "        if ele == \"$\" or not ele.isdigit():\n",
    "            pass\n",
    "        else:\n",
    "            tran_user_balance += ele\n",
    "\n",
    "    \n",
    "    # sum user balance\n",
    "    sum_balance += float(tran_user_balance)\n",
    "sum_balance"
   ]
  },
  {
   "cell_type": "markdown",
   "id": "624bcc2f",
   "metadata": {},
   "source": [
    "Average balance per user"
   ]
  },
  {
   "cell_type": "code",
   "execution_count": null,
   "id": "b12cbf2b",
   "metadata": {},
   "outputs": [],
   "source": []
  },
  {
   "cell_type": "markdown",
   "id": "f35f172c",
   "metadata": {},
   "source": [
    "User with the lowest balance"
   ]
  },
  {
   "cell_type": "code",
   "execution_count": null,
   "id": "4f362741",
   "metadata": {},
   "outputs": [],
   "source": []
  },
  {
   "cell_type": "markdown",
   "id": "c536c3f1",
   "metadata": {},
   "source": [
    "User with the highest balance"
   ]
  },
  {
   "cell_type": "code",
   "execution_count": null,
   "id": "87013b3b",
   "metadata": {},
   "outputs": [],
   "source": []
  },
  {
   "cell_type": "markdown",
   "id": "3afb7433",
   "metadata": {},
   "source": [
    "Most common favorite fruit"
   ]
  },
  {
   "cell_type": "code",
   "execution_count": null,
   "id": "428a8a60",
   "metadata": {},
   "outputs": [],
   "source": []
  },
  {
   "cell_type": "markdown",
   "id": "19887474",
   "metadata": {},
   "source": [
    "Least most common favorite fruit"
   ]
  },
  {
   "cell_type": "code",
   "execution_count": 62,
   "id": "ed347a42",
   "metadata": {},
   "outputs": [
    {
     "data": {
      "text/plain": [
       "'dd'"
      ]
     },
     "execution_count": 62,
     "metadata": {},
     "output_type": "execute_result"
    }
   ],
   "source": []
  },
  {
   "cell_type": "markdown",
   "id": "d703ff4f",
   "metadata": {},
   "source": [
    "Total number of unread messages for all users"
   ]
  },
  {
   "cell_type": "code",
   "execution_count": null,
   "id": "83a39be2",
   "metadata": {},
   "outputs": [],
   "source": []
  }
 ],
 "metadata": {
  "kernelspec": {
   "display_name": "Python 3 (ipykernel)",
   "language": "python",
   "name": "python3"
  },
  "language_info": {
   "codemirror_mode": {
    "name": "ipython",
    "version": 3
   },
   "file_extension": ".py",
   "mimetype": "text/x-python",
   "name": "python",
   "nbconvert_exporter": "python",
   "pygments_lexer": "ipython3",
   "version": "3.10.9"
  }
 },
 "nbformat": 4,
 "nbformat_minor": 5
}
