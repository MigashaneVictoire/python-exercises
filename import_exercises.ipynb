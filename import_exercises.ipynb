{
 "cells": [
  {
   "cell_type": "markdown",
   "id": "67a91c7a",
   "metadata": {},
   "source": [
    "# Imports\n",
    "\n",
    "1. Import and test 3 of the functions from your functions exercise file. Import each function in a different way:\n",
    "\n",
    "a. Run an interactive python session and import the module. Call the is_vowel function using the . syntax."
   ]
  },
  {
   "cell_type": "code",
   "execution_count": 20,
   "id": "e937cd38",
   "metadata": {},
   "outputs": [
    {
     "name": "stdout",
     "output_type": "stream",
     "text": [
      "importing Jupyter notebook from function_exercises.ipynb\n",
      "B\n"
     ]
    },
    {
     "data": {
      "text/plain": [
       "False"
      ]
     },
     "execution_count": 20,
     "metadata": {},
     "output_type": "execute_result"
    }
   ],
   "source": [
    "import import_ipynb # enable importing functions from a ipymb file\n",
    "\n",
    "import function_exercises as fe\n",
    "\n",
    "fe.is_vowel(\"d\")"
   ]
  },
  {
   "cell_type": "code",
   "execution_count": 21,
   "id": "e4ef0c84",
   "metadata": {},
   "outputs": [
    {
     "name": "stdout",
     "output_type": "stream",
     "text": [
      "Requirement already satisfied: import_ipynb in /opt/homebrew/anaconda3/lib/python3.10/site-packages (0.1.4)\n",
      "Requirement already satisfied: nbformat in /opt/homebrew/anaconda3/lib/python3.10/site-packages (from import_ipynb) (5.7.0)\n",
      "Requirement already satisfied: IPython in /opt/homebrew/anaconda3/lib/python3.10/site-packages (from import_ipynb) (8.10.0)\n",
      "Requirement already satisfied: appnope in /opt/homebrew/anaconda3/lib/python3.10/site-packages (from IPython->import_ipynb) (0.1.2)\n",
      "Requirement already satisfied: pygments>=2.4.0 in /opt/homebrew/anaconda3/lib/python3.10/site-packages (from IPython->import_ipynb) (2.11.2)\n",
      "Requirement already satisfied: jedi>=0.16 in /opt/homebrew/anaconda3/lib/python3.10/site-packages (from IPython->import_ipynb) (0.18.1)\n",
      "Requirement already satisfied: pexpect>4.3 in /opt/homebrew/anaconda3/lib/python3.10/site-packages (from IPython->import_ipynb) (4.8.0)\n",
      "Requirement already satisfied: prompt-toolkit<3.1.0,>=3.0.30 in /opt/homebrew/anaconda3/lib/python3.10/site-packages (from IPython->import_ipynb) (3.0.36)\n",
      "Requirement already satisfied: matplotlib-inline in /opt/homebrew/anaconda3/lib/python3.10/site-packages (from IPython->import_ipynb) (0.1.6)\n",
      "Requirement already satisfied: backcall in /opt/homebrew/anaconda3/lib/python3.10/site-packages (from IPython->import_ipynb) (0.2.0)\n",
      "Requirement already satisfied: pickleshare in /opt/homebrew/anaconda3/lib/python3.10/site-packages (from IPython->import_ipynb) (0.7.5)\n",
      "Requirement already satisfied: decorator in /opt/homebrew/anaconda3/lib/python3.10/site-packages (from IPython->import_ipynb) (5.1.1)\n",
      "Requirement already satisfied: traitlets>=5 in /opt/homebrew/anaconda3/lib/python3.10/site-packages (from IPython->import_ipynb) (5.7.1)\n",
      "Requirement already satisfied: stack-data in /opt/homebrew/anaconda3/lib/python3.10/site-packages (from IPython->import_ipynb) (0.2.0)\n",
      "Requirement already satisfied: jsonschema>=2.6 in /opt/homebrew/anaconda3/lib/python3.10/site-packages (from nbformat->import_ipynb) (4.17.3)\n",
      "Requirement already satisfied: jupyter-core in /opt/homebrew/anaconda3/lib/python3.10/site-packages (from nbformat->import_ipynb) (5.2.0)\n",
      "Requirement already satisfied: fastjsonschema in /opt/homebrew/anaconda3/lib/python3.10/site-packages (from nbformat->import_ipynb) (2.16.2)\n",
      "Requirement already satisfied: parso<0.9.0,>=0.8.0 in /opt/homebrew/anaconda3/lib/python3.10/site-packages (from jedi>=0.16->IPython->import_ipynb) (0.8.3)\n",
      "Requirement already satisfied: attrs>=17.4.0 in /opt/homebrew/anaconda3/lib/python3.10/site-packages (from jsonschema>=2.6->nbformat->import_ipynb) (22.1.0)\n",
      "Requirement already satisfied: pyrsistent!=0.17.0,!=0.17.1,!=0.17.2,>=0.14.0 in /opt/homebrew/anaconda3/lib/python3.10/site-packages (from jsonschema>=2.6->nbformat->import_ipynb) (0.18.0)\n",
      "Requirement already satisfied: ptyprocess>=0.5 in /opt/homebrew/anaconda3/lib/python3.10/site-packages (from pexpect>4.3->IPython->import_ipynb) (0.7.0)\n",
      "Requirement already satisfied: wcwidth in /opt/homebrew/anaconda3/lib/python3.10/site-packages (from prompt-toolkit<3.1.0,>=3.0.30->IPython->import_ipynb) (0.2.5)\n",
      "Requirement already satisfied: platformdirs>=2.5 in /opt/homebrew/anaconda3/lib/python3.10/site-packages (from jupyter-core->nbformat->import_ipynb) (2.5.2)\n",
      "Requirement already satisfied: pure-eval in /opt/homebrew/anaconda3/lib/python3.10/site-packages (from stack-data->IPython->import_ipynb) (0.2.2)\n",
      "Requirement already satisfied: asttokens in /opt/homebrew/anaconda3/lib/python3.10/site-packages (from stack-data->IPython->import_ipynb) (2.0.5)\n",
      "Requirement already satisfied: executing in /opt/homebrew/anaconda3/lib/python3.10/site-packages (from stack-data->IPython->import_ipynb) (0.8.3)\n",
      "Requirement already satisfied: six in /opt/homebrew/anaconda3/lib/python3.10/site-packages (from asttokens->stack-data->IPython->import_ipynb) (1.16.0)\n"
     ]
    }
   ],
   "source": [
    "!pip install import_ipynb"
   ]
  },
  {
   "cell_type": "markdown",
   "id": "8b944b22",
   "metadata": {},
   "source": [
    "\n",
    "b. Create a file named import_exericses.py. Within this file, use from to import the calculate_tip function directly. Call this function with values you choose and print the result."
   ]
  },
  {
   "cell_type": "code",
   "execution_count": 22,
   "id": "2ba90d9a",
   "metadata": {},
   "outputs": [
    {
     "data": {
      "text/plain": [
       "327.6"
      ]
     },
     "execution_count": 22,
     "metadata": {},
     "output_type": "execute_result"
    }
   ],
   "source": [
    "fe.calculate_tip(.4, 234)"
   ]
  },
  {
   "cell_type": "markdown",
   "id": "b9698a33",
   "metadata": {},
   "source": [
    "c. Create a jupyter notebook named import_exercises.ipynb. Use from to import the get_letter_grade function and give it an alias. Test this function in your notebook.\n",
    "\n",
    "Make sure your code that tests the function imports is run from the same directory that your functions exercise file is in."
   ]
  },
  {
   "cell_type": "code",
   "execution_count": 23,
   "id": "9802c2c7",
   "metadata": {},
   "outputs": [
    {
     "name": "stdout",
     "output_type": "stream",
     "text": [
      "A\n"
     ]
    }
   ],
   "source": [
    "fe.get_letter_grade(98)"
   ]
  },
  {
   "cell_type": "markdown",
   "id": "b7fa9df5",
   "metadata": {},
   "source": [
    "2. Read about and use the itertools module from the python standard library to help you solve the following problems. Note: Many of these functions in this library return an object, to see the results of the function, cast this object as a list.\n",
    "\n",
    "* How many different ways can you combine a single letter from \"abc\" with either 1, 2, or 3?\n",
    "* How many different combinations are there of 2 letters from \"abcd\"?\n",
    "* How many different permutations are there of 2 letters from \"abcd\"?"
   ]
  },
  {
   "cell_type": "code",
   "execution_count": 37,
   "id": "8fcfe1d9",
   "metadata": {},
   "outputs": [
    {
     "name": "stdout",
     "output_type": "stream",
     "text": [
      "3\n",
      "6\n",
      "12\n"
     ]
    }
   ],
   "source": [
    "import itertools\n",
    "\n",
    "# combinations('ABCD', 2) --> AB AC AD BC BD CD\n",
    "# combinations(range(4), 3) --> 012 013 023 123\n",
    "    \n",
    "# combine a single charcture from the string 'abc'\n",
    "print(len(list(itertools.combinations(\"abc\", 1))))\n",
    "\n",
    "# combinations from 2 letters in 'abcd'\n",
    "print(len(list(itertools.combinations('abcd', 2))))\n",
    "\n",
    "\n",
    "# permutations('ABCD', 2) --> AB AC AD BA BC BD CA CB CD DA DB DC\n",
    "# permutations(range(3)) --> 012 021 102 120 201 210\n",
    "    \n",
    "# permutations of 2 from 'abcd'\n",
    "print(len(list(itertools.permutations('abcd',2))))"
   ]
  },
  {
   "cell_type": "markdown",
   "id": "74015f04",
   "metadata": {},
   "source": [
    "3. Save `this file`(a file in current directory) as profiles.json inside of your exercises directory (right click -> save file as...).\n",
    "\n",
    "Use the load function from the json module to open this file.\n",
    "```\n",
    "import json\n",
    "json.load(open('profiles.json'))\n",
    "\n",
    "```\n",
    "Your code should produce a list of dictionaries. Using this data, write some code that calculates and outputs the following information:"
   ]
  },
  {
   "cell_type": "code",
   "execution_count": 43,
   "id": "2515aefa",
   "metadata": {},
   "outputs": [],
   "source": [
    "import json\n",
    "\n",
    "profiles = json.load(open('profiles.json')) # assign the json file"
   ]
  },
  {
   "cell_type": "markdown",
   "id": "ed2a23e2",
   "metadata": {},
   "source": [
    "Total number of users"
   ]
  },
  {
   "cell_type": "code",
   "execution_count": 7,
   "id": "93122bff",
   "metadata": {},
   "outputs": [
    {
     "data": {
      "text/plain": [
       "19"
      ]
     },
     "execution_count": 7,
     "metadata": {},
     "output_type": "execute_result"
    }
   ],
   "source": [
    "len(profiles)"
   ]
  },
  {
   "cell_type": "markdown",
   "id": "9275a0e1",
   "metadata": {},
   "source": [
    "Number of active users"
   ]
  },
  {
   "cell_type": "code",
   "execution_count": 8,
   "id": "3166900f",
   "metadata": {},
   "outputs": [
    {
     "data": {
      "text/plain": [
       "9"
      ]
     },
     "execution_count": 8,
     "metadata": {},
     "output_type": "execute_result"
    }
   ],
   "source": [
    "active_count = 0\n",
    "for user in profiles:\n",
    "    # add 1 to count if user isActive == True\n",
    "    if user['isActive']:\n",
    "        active_count += 1\n",
    "    \n",
    "active_count"
   ]
  },
  {
   "cell_type": "code",
   "execution_count": 38,
   "id": "84f9589d",
   "metadata": {},
   "outputs": [
    {
     "data": {
      "text/plain": [
       "9"
      ]
     },
     "execution_count": 38,
     "metadata": {},
     "output_type": "execute_result"
    }
   ],
   "source": [
    "# list comprehesion\n",
    "active_users = [user['isActive'] for user in profiles if user['isActive']]\n",
    "len(active_users)"
   ]
  },
  {
   "cell_type": "markdown",
   "id": "71508ae0",
   "metadata": {},
   "source": [
    "Number of inactive users"
   ]
  },
  {
   "cell_type": "code",
   "execution_count": 9,
   "id": "251562a8",
   "metadata": {},
   "outputs": [
    {
     "data": {
      "text/plain": [
       "10"
      ]
     },
     "execution_count": 9,
     "metadata": {},
     "output_type": "execute_result"
    }
   ],
   "source": [
    "inactive_count = 0\n",
    "for user in profiles:\n",
    "    # add 1 to count if user isActive == False\n",
    "    if not user['isActive']:\n",
    "        inactive_count += 1\n",
    "    \n",
    "inactive_count"
   ]
  },
  {
   "cell_type": "markdown",
   "id": "6d1b4abe",
   "metadata": {},
   "source": [
    "Grand total of balances for all users"
   ]
  },
  {
   "cell_type": "code",
   "execution_count": 11,
   "id": "c11a25d3",
   "metadata": {},
   "outputs": [
    {
     "data": {
      "text/plain": [
       "52667.02"
      ]
     },
     "execution_count": 11,
     "metadata": {},
     "output_type": "execute_result"
    }
   ],
   "source": [
    "sum_balance = 0\n",
    "for user in profiles:\n",
    "    \n",
    "    # remove dollar sign and non numeric\n",
    "    tran_user_balance = \"\"\n",
    "    for ele in user['balance']:\n",
    "        if ele == \"$\" or ele == ',':\n",
    "            pass\n",
    "        else:\n",
    "            tran_user_balance += ele\n",
    "\n",
    "    \n",
    "    # sum user balance\n",
    "    sum_balance += float(tran_user_balance)\n",
    "sum_balance"
   ]
  },
  {
   "cell_type": "markdown",
   "id": "624bcc2f",
   "metadata": {},
   "source": [
    "Average balance per user"
   ]
  },
  {
   "cell_type": "code",
   "execution_count": 39,
   "id": "b12cbf2b",
   "metadata": {},
   "outputs": [
    {
     "name": "stdout",
     "output_type": "stream",
     "text": [
      "2771.9484210526316\n"
     ]
    }
   ],
   "source": [
    "balance_list = []\n",
    "for user in profiles:\n",
    "    \n",
    "    # remove dollar sign and non numeric\n",
    "    tran_user_balance = \"\"\n",
    "    for ele in user['balance']:\n",
    "        if ele == \"$\" or ele == ',':\n",
    "            pass\n",
    "        else:\n",
    "            tran_user_balance += ele\n",
    "\n",
    "    \n",
    "    # add user balance to a list\n",
    "    balance_list.append(float(tran_user_balance))\n",
    "    \n",
    "print(sum(balance_list) / len(profiles)) # get average"
   ]
  },
  {
   "cell_type": "markdown",
   "id": "f35f172c",
   "metadata": {},
   "source": [
    "User with the lowest balance"
   ]
  },
  {
   "cell_type": "code",
   "execution_count": 14,
   "id": "4f362741",
   "metadata": {},
   "outputs": [
    {
     "data": {
      "text/plain": [
       "1214.1"
      ]
     },
     "execution_count": 14,
     "metadata": {},
     "output_type": "execute_result"
    }
   ],
   "source": [
    "balance_list = []\n",
    "for user in profiles:\n",
    "    \n",
    "    # remove dollar sign and non numeric\n",
    "    tran_user_balance = \"\"\n",
    "    for ele in user['balance']:\n",
    "        if ele == \"$\" or ele == ',':\n",
    "            pass\n",
    "        else:\n",
    "            tran_user_balance += ele\n",
    "\n",
    "    \n",
    "    # add user balance to a list\n",
    "    balance_list.append(float(tran_user_balance))\n",
    "    \n",
    "min(balance_list) # get min value"
   ]
  },
  {
   "cell_type": "code",
   "execution_count": 49,
   "id": "c5e029b6",
   "metadata": {},
   "outputs": [
    {
     "name": "stdout",
     "output_type": "stream",
     "text": [
      "Avery Flynn 1214.1\n"
     ]
    }
   ],
   "source": [
    "balance_pair = {} # contain dictionary pairs for name and balance\n",
    "balance_list = [] # holds balances\n",
    "\n",
    "for user in profiles:\n",
    "    \n",
    "    # remove dollar sign and non numeric\n",
    "    tran_user_balance = \"\"\n",
    "    for ele in user['balance']:\n",
    "        if ele == \"$\" or ele == ',':\n",
    "            pass\n",
    "        else:\n",
    "            tran_user_balance += ele\n",
    "\n",
    "    \n",
    "    # add user balance to a list\n",
    "    balance_pair[user['name']] = float(tran_user_balance)\n",
    "    balance_list.append(float(tran_user_balance))\n",
    "\n",
    "# get name and values using key value pairs\n",
    "for key, value in balance_pair.items():\n",
    "    if value == min(balance_list):\n",
    "        print(key, value)"
   ]
  },
  {
   "cell_type": "markdown",
   "id": "c536c3f1",
   "metadata": {},
   "source": [
    "User with the highest balance"
   ]
  },
  {
   "cell_type": "code",
   "execution_count": 15,
   "id": "87013b3b",
   "metadata": {},
   "outputs": [
    {
     "data": {
      "text/plain": [
       "3919.64"
      ]
     },
     "execution_count": 15,
     "metadata": {},
     "output_type": "execute_result"
    }
   ],
   "source": [
    "balance_list = []\n",
    "for user in profiles:\n",
    "    \n",
    "    # remove dollar sign and non numeric\n",
    "    tran_user_balance = \"\"\n",
    "    for ele in user['balance']:\n",
    "        if ele == \"$\" or ele == ',':\n",
    "            pass\n",
    "        else:\n",
    "            tran_user_balance += ele\n",
    "\n",
    "    \n",
    "    # add user balance to a list\n",
    "    balance_list.append(float(tran_user_balance))\n",
    "    \n",
    "max(balance_list) # get max value"
   ]
  },
  {
   "cell_type": "markdown",
   "id": "3afb7433",
   "metadata": {},
   "source": [
    "Most common favorite fruit"
   ]
  },
  {
   "cell_type": "code",
   "execution_count": 16,
   "id": "428a8a60",
   "metadata": {},
   "outputs": [
    {
     "data": {
      "text/plain": [
       "'strawberry'"
      ]
     },
     "execution_count": 16,
     "metadata": {},
     "output_type": "execute_result"
    }
   ],
   "source": [
    "import statistics as stat\n",
    "favorite_fruits = []\n",
    "for user in profiles:\n",
    "    favorite_fruits.append(user[\"favoriteFruit\"])\n",
    "\n",
    "stat.mode(favorite_fruits) # get most recuring fruit"
   ]
  },
  {
   "cell_type": "markdown",
   "id": "19887474",
   "metadata": {},
   "source": [
    "Least most common favorite fruit"
   ]
  },
  {
   "cell_type": "code",
   "execution_count": 17,
   "id": "ed347a42",
   "metadata": {},
   "outputs": [
    {
     "name": "stdout",
     "output_type": "stream",
     "text": [
      "banana 4\n"
     ]
    }
   ],
   "source": [
    "favorite_fruits = []\n",
    "for user in profiles:\n",
    "    favorite_fruits.append(user[\"favoriteFruit\"])\n",
    "\n",
    "# get unique values from the \n",
    "unique_fruits = list(set(favorite_fruits))\n",
    "\n",
    "# create a dictionary of unique values with there counts\n",
    "counts_dict = {}\n",
    "for ele in unique_fruits:\n",
    "    counts_dict[ele] = favorite_fruits.count(ele)\n",
    "\n",
    "# iterate in the count_ddictionary and retrive key and value\n",
    "# for the fruit with the lowest count\n",
    "minValue = float(\"inf\")\n",
    "fruit = \"\"\n",
    "for key,value in counts_dict.items():\n",
    "    if minValue > value:\n",
    "        minValue = value\n",
    "        fruit = key\n",
    "    else: pass\n",
    "\n",
    "print(fruit, minValue)\n"
   ]
  },
  {
   "cell_type": "markdown",
   "id": "d703ff4f",
   "metadata": {},
   "source": [
    "Total number of unread messages for all users"
   ]
  },
  {
   "cell_type": "code",
   "execution_count": 18,
   "id": "83a39be2",
   "metadata": {},
   "outputs": [
    {
     "data": {
      "text/plain": [
       "111"
      ]
     },
     "execution_count": 18,
     "metadata": {},
     "output_type": "execute_result"
    }
   ],
   "source": [
    "unread_messages = 0\n",
    "\n",
    "for user in profiles:\n",
    "    # iterate the greeting message and find digits\n",
    "    for item in user[\"greeting\"]:\n",
    "        if item.isdigit():\n",
    "            # add value to unread messages\n",
    "            unread_messages += int(item)\n",
    "            \n",
    "unread_messages    "
   ]
  }
 ],
 "metadata": {
  "kernelspec": {
   "display_name": "Python 3 (ipykernel)",
   "language": "python",
   "name": "python3"
  },
  "language_info": {
   "codemirror_mode": {
    "name": "ipython",
    "version": 3
   },
   "file_extension": ".py",
   "mimetype": "text/x-python",
   "name": "python",
   "nbconvert_exporter": "python",
   "pygments_lexer": "ipython3",
   "version": "3.10.9"
  }
 },
 "nbformat": 4,
 "nbformat_minor": 5
}
